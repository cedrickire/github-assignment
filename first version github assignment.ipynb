{
 "cells": [
  {
   "cell_type": "code",
   "execution_count": 1,
   "metadata": {},
   "outputs": [],
   "source": [
    "import numpy as np"
   ]
  },
  {
   "cell_type": "code",
   "execution_count": null,
   "metadata": {},
   "outputs": [],
   "source": [
    "for loop in range(100):    \n",
    "    X = np.random.normal(0,5, (5,7))\n",
    "\n",
    "    max_var = 0\n",
    "    i = 0\n",
    "    j = 0\n",
    "\n",
    "    counter_i = 0\n",
    "    counter_j = 0\n",
    "\n",
    "    for k in X:\n",
    "        counter_i += 1\n",
    "        #print(\"counter i\", counter_i)\n",
    "        for l in k:\n",
    "            counter_j += 1\n",
    "            counter_j = counter_j % X.shape[1]\n",
    "\n",
    "            if l > max_var:\n",
    "                max_var = l\n",
    "                i = counter_i\n",
    "                j = counter_j\n",
    "                #print(\"counter j\", counter_j)\n",
    "\n",
    "            else:\n",
    "                pass\n",
    "    i = i - 1\n",
    "    j = j - 1\n",
    "\n",
    "    print (np.allclose( X[i,j], np.max(X)))"
   ]
  },
  {
   "cell_type": "code",
   "execution_count": 75,
   "metadata": {},
   "outputs": [
    {
     "name": "stdout",
     "output_type": "stream",
     "text": [
      "[1 2]\n",
      "[2 3]\n"
     ]
    }
   ],
   "source": [
    "x = np.array([[1, 2], [2, 3]])\n",
    "for i in x:\n",
    "    print(i)"
   ]
  },
  {
   "cell_type": "code",
   "execution_count": null,
   "metadata": {},
   "outputs": [
    {
     "data": {
      "text/plain": [
       "11.089006664637113"
      ]
     },
     "execution_count": 55,
     "metadata": {},
     "output_type": "execute_result"
    }
   ],
   "source": []
  },
  {
   "cell_type": "code",
   "execution_count": 69,
   "metadata": {},
   "outputs": [
    {
     "data": {
      "text/plain": [
       "1.5707962875404229"
      ]
     },
     "execution_count": 69,
     "metadata": {},
     "output_type": "execute_result"
    }
   ],
   "source": [
    "product = 1\n",
    "for n in range(1, 10000000):\n",
    "    product *= (4* n**2) / (4* n**2 - 1)\n",
    "product"
   ]
  },
  {
   "cell_type": "code",
   "execution_count": 68,
   "metadata": {},
   "outputs": [
    {
     "data": {
      "text/plain": [
       "384"
      ]
     },
     "execution_count": 68,
     "metadata": {},
     "output_type": "execute_result"
    }
   ],
   "source": [
    "pro = 1\n",
    "for n in range(1,5):\n",
    "    pro *= 2*n\n",
    "\n",
    "pro"
   ]
  }
 ],
 "metadata": {
  "kernelspec": {
   "display_name": "PYDS",
   "language": "python",
   "name": "python3"
  },
  "language_info": {
   "codemirror_mode": {
    "name": "ipython",
    "version": 3
   },
   "file_extension": ".py",
   "mimetype": "text/x-python",
   "name": "python",
   "nbconvert_exporter": "python",
   "pygments_lexer": "ipython3",
   "version": "3.12.7"
  }
 },
 "nbformat": 4,
 "nbformat_minor": 2
}
